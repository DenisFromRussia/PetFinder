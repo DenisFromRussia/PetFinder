{
 "cells": [
  {
   "cell_type": "code",
   "execution_count": null,
   "metadata": {},
   "outputs": [],
   "source": [
    "55.849022, 37.572340\n",
    "\n",
    "55.886968, 37.613467\n",
    "\n",
    "55.881819, 37.678844\n",
    "\n",
    "55.753600, 37.621094"
   ]
  },
  {
   "cell_type": "markdown",
   "metadata": {},
   "source": [
    "#### Получим адреса приютов"
   ]
  },
  {
   "cell_type": "code",
   "execution_count": 5,
   "metadata": {},
   "outputs": [],
   "source": [
    "import pandas as pd"
   ]
  },
  {
   "cell_type": "code",
   "execution_count": 8,
   "metadata": {},
   "outputs": [],
   "source": [
    "df = pd.read_excel('Dataset.xlsx', header=1)"
   ]
  },
  {
   "cell_type": "code",
   "execution_count": 13,
   "metadata": {},
   "outputs": [],
   "source": [
    "pethouse_addrs = list(df['адрес приюта'].unique())"
   ]
  },
  {
   "cell_type": "markdown",
   "metadata": {},
   "source": [
    "#### Вручную сопоставим адресам координаты"
   ]
  },
  {
   "cell_type": "code",
   "execution_count": 14,
   "metadata": {},
   "outputs": [
    {
     "data": {
      "text/plain": [
       "['г.Москва, Зеленоград, Фирсановское ш., вл.5А',\n",
       " 'г.Москва, ул.Рассветная аллея, влд.10',\n",
       " 'г.Москва, ул. Пехорская 1Б, с.6',\n",
       " 'г.Москва, ул.\\xa0Родниковая, вл.26',\n",
       " 'г.Москва, Востряковский пр-д, вл.10 А',\n",
       " 'г.Москва, ул.Красной Сосны, вл. 30, стр.4',\n",
       " 'г.Москва, проезд Дубовой Рощи, вл.23-25',\n",
       " 'г.Москва, ул.Искры, вл. 23А',\n",
       " 'г.Москва, ул.Брусилова, вл.32, стр.1-5 ',\n",
       " 'г.Москва, ул.2-я Вольская, вл.17 стр.3',\n",
       " 'г.Москва, Проектируемый проезд №5112, вл.2\\\\1',\n",
       " 'г.Москва, Машкинское шоссе, вл. 4',\n",
       " 'г.Москва, Проектируемый проезд, 727']"
      ]
     },
     "execution_count": 14,
     "metadata": {},
     "output_type": "execute_result"
    }
   ],
   "source": [
    "pethouse_addrs"
   ]
  },
  {
   "cell_type": "code",
   "execution_count": 16,
   "metadata": {},
   "outputs": [],
   "source": [
    "coordinates = [\n",
    "    (55.973063, 37.262037),\n",
    "    (55.739732, 37.798277),\n",
    "    (55.717335, 37.929908),\n",
    "    (55.624728, 37.376078),\n",
    "    (55.581317, 37.616449),\n",
    "    (55.842696, 37.679933),\n",
    "    (55.817643, 37.605185),\n",
    "    (55.863596, 37.654718),\n",
    "    (55.498755, 37.598950),\n",
    "    (55.687776, 37.934381),\n",
    "    (55.667361, 37.703146),\n",
    "    (55.913500, 37.387846),\n",
    "    (55.911482, 37.367616)\n",
    "]"
   ]
  },
  {
   "cell_type": "code",
   "execution_count": 17,
   "metadata": {},
   "outputs": [],
   "source": [
    "geocode_dict = {elem[0]: elem[1] for elem in zip(pethouse_addrs, coordinates)}"
   ]
  },
  {
   "cell_type": "code",
   "execution_count": 19,
   "metadata": {},
   "outputs": [],
   "source": [
    "import plotly.graph_objects as go\n",
    "\n",
    "mapbox_access_token = open(\"mapbox_token\").read()"
   ]
  },
  {
   "cell_type": "code",
   "execution_count": null,
   "metadata": {},
   "outputs": [],
   "source": [
    "55.753600, 37.621094"
   ]
  },
  {
   "cell_type": "code",
   "execution_count": 57,
   "metadata": {},
   "outputs": [],
   "source": [
    "geocode_dict.update({'г.Москва, Проектируемый проезд №5112, вл.2': (55.667361, 37.703146)})"
   ]
  },
  {
   "cell_type": "code",
   "execution_count": 60,
   "metadata": {},
   "outputs": [
    {
     "data": {
      "text/plain": [
       "{'г.Москва, Зеленоград, Фирсановское ш., вл.5А': (55.973063, 37.262037),\n",
       " 'г.Москва, ул.Рассветная аллея, влд.10': (55.739732, 37.798277),\n",
       " 'г.Москва, ул. Пехорская 1Б, с.6': (55.717335, 37.929908),\n",
       " 'г.Москва, ул.\\xa0Родниковая, вл.26': (55.624728, 37.376078),\n",
       " 'г.Москва, Востряковский пр-д, вл.10 А': (55.581317, 37.616449),\n",
       " 'г.Москва, ул.Красной Сосны, вл. 30, стр.4': (55.842696, 37.679933),\n",
       " 'г.Москва, проезд Дубовой Рощи, вл.23-25': (55.817643, 37.605185),\n",
       " 'г.Москва, ул.Искры, вл. 23А': (55.863596, 37.654718),\n",
       " 'г.Москва, ул.Брусилова, вл.32, стр.1-5 ': (55.498755, 37.59895),\n",
       " 'г.Москва, ул.2-я Вольская, вл.17 стр.3': (55.687776, 37.934381),\n",
       " 'г.Москва, Машкинское шоссе, вл. 4': (55.9135, 37.387846),\n",
       " 'г.Москва, Проектируемый проезд, 727': (55.911482, 37.367616),\n",
       " 'г.Москва, Проектируемый проезд №5112, вл.2': (55.667361, 37.703146)}"
      ]
     },
     "execution_count": 60,
     "metadata": {},
     "output_type": "execute_result"
    }
   ],
   "source": [
    "geocode_dict"
   ]
  },
  {
   "cell_type": "code",
   "execution_count": 58,
   "metadata": {},
   "outputs": [],
   "source": [
    "del geocode_dict['г.Москва, Проектируемый проезд №5112, вл.2\\\\1']"
   ]
  },
  {
   "cell_type": "code",
   "execution_count": 59,
   "metadata": {
    "scrolled": false
   },
   "outputs": [],
   "source": [
    "for addr in geocode_dict:\n",
    "    fig = go.Figure(go.Scattermapbox(\n",
    "        lat=[geocode_dict[addr][0]],\n",
    "        lon=[geocode_dict[addr][1]],\n",
    "        mode='markers',\n",
    "        marker=go.scattermapbox.Marker(\n",
    "            size=14\n",
    "        ),\n",
    "        text=['Приют'],\n",
    "    ))\n",
    "\n",
    "    fig.update_layout(\n",
    "        hovermode='closest',\n",
    "        mapbox=dict(\n",
    "            accesstoken=mapbox_access_token,\n",
    "            bearing=0,\n",
    "            center=go.layout.mapbox.Center(\n",
    "                lat=55.753600,\n",
    "                lon=37.621094\n",
    "            ),\n",
    "            pitch=0,\n",
    "            zoom=8\n",
    "        ),\n",
    "        width=700,\n",
    "        height=600\n",
    "    )\n",
    "\n",
    "    # fig.show()\n",
    "    \n",
    "    fig.write_image(f'maps/{addr}.png')"
   ]
  },
  {
   "cell_type": "code",
   "execution_count": 61,
   "metadata": {},
   "outputs": [
    {
     "name": "stdout",
     "output_type": "stream",
     "text": [
      "/c/Homework/pet_finder\n"
     ]
    }
   ],
   "source": [
    "!pwd"
   ]
  }
 ],
 "metadata": {
  "kernelspec": {
   "display_name": "Python 3",
   "language": "python",
   "name": "python3"
  }
 },
 "nbformat": 4,
 "nbformat_minor": 4
}
